{
 "cells": [
  {
   "cell_type": "code",
   "execution_count": 8,
   "id": "83a1989c-9f6f-427d-a2e2-b1a94bb30240",
   "metadata": {},
   "outputs": [
    {
     "data": {
      "text/plain": [
       "['ketchup',\n",
       " 'coffee',\n",
       " 'butter',\n",
       " 'butter',\n",
       " 'butter',\n",
       " 'walnuts',\n",
       " 'chips',\n",
       " 'ginger',\n",
       " 'lettuce',\n",
       " 'broccoli',\n",
       " 'lettuce',\n",
       " 'ginger',\n",
       " 'potato',\n",
       " 'mushroom',\n",
       " 'salt',\n",
       " 'peanut butter',\n",
       " 'peanut butter',\n",
       " 'mustard',\n",
       " 'milk',\n",
       " 'garlic',\n",
       " 'oil',\n",
       " 'flour',\n",
       " 'mayonnaise',\n",
       " 'jelly',\n",
       " 'crackers',\n",
       " 'soy sauce',\n",
       " 'tomato']"
      ]
     },
     "execution_count": 8,
     "metadata": {},
     "output_type": "execute_result"
    }
   ],
   "source": [
    "from collections import Counter\n",
    "import pandas as pd \n",
    "import numpy as np \n",
    "df = pd.read_csv('users_ingredients.csv')\n",
    "sample_user = 'Sophia Clark'\n",
    "# Data preprocessing: Combine ingredients for each user\n",
    "def combine_ingredients(row):\n",
    "    return [row[col] for col in df.columns[1:] if pd.notna(row[col])]\n",
    "\n",
    "# Create a new dataframe with user and all ingredients in a list\n",
    "df['all_ingredients'] = df.apply(combine_ingredients, axis=1)\n",
    "\n",
    "# Group by user and aggregate their ingredients\n",
    "user_ingredients = df.groupby('name')['all_ingredients'].sum().reset_index()\n",
    "\n",
    "# Create a dictionary to store ingredient counts (for global popularity ranking)\n",
    "all_ingredients_flat = [ingredient for sublist in user_ingredients['all_ingredients'] for ingredient in sublist]\n",
    "ingredient_counter = Counter(all_ingredients_flat)\n",
    "\n",
    "# Function to generate recommendations for a user\n",
    "def recommend_ingredients(user_name):\n",
    "    user_data = user_ingredients[user_ingredients['name'] == user_name]\n",
    "    \n",
    "    if user_data.empty:\n",
    "        return f\"No data found for user: {user_name}\"\n",
    "    \n",
    "    user_searched_ingredients = user_data.iloc[0]['all_ingredients']\n",
    "    \n",
    "    # Recommend ingredients: prioritize user-searched, then global popular ones\n",
    "    recommendations = sorted(user_searched_ingredients, key=lambda x: ingredient_counter[x], reverse=True)\n",
    "    \n",
    "    # Include globally popular ingredients not searched by the user\n",
    "    additional_recommendations = [ing for ing in ingredient_counter if ing not in user_searched_ingredients]\n",
    "    \n",
    "    # Combine both lists: searched and popular\n",
    "    final_recommendations = recommendations + additional_recommendations[:5]  # Limit additional ones\n",
    "    \n",
    "    return final_recommendations\n",
    "\n",
    "#Generate recommendations for a sample user\n",
    "recommend_ingredients(sample_user)\n"
   ]
  },
  {
   "cell_type": "code",
   "execution_count": 2,
   "id": "7568b900-ed93-40a9-83b3-c80f9fa68556",
   "metadata": {},
   "outputs": [],
   "source": []
  },
  {
   "cell_type": "code",
   "execution_count": null,
   "id": "64ec726e-7fb0-4159-a949-a4c2c7cbafa5",
   "metadata": {},
   "outputs": [],
   "source": []
  }
 ],
 "metadata": {
  "kernelspec": {
   "display_name": "Python 3 (ipykernel)",
   "language": "python",
   "name": "python3"
  },
  "language_info": {
   "codemirror_mode": {
    "name": "ipython",
    "version": 3
   },
   "file_extension": ".py",
   "mimetype": "text/x-python",
   "name": "python",
   "nbconvert_exporter": "python",
   "pygments_lexer": "ipython3",
   "version": "3.11.5"
  }
 },
 "nbformat": 4,
 "nbformat_minor": 5
}
